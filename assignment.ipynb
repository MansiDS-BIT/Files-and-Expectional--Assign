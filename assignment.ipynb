{
 "cells": [
  {
   "cell_type": "markdown",
   "id": "50b254a1",
   "metadata": {},
   "source": [
    "1. Discuss the scenarios where multithreading is preferable to multiprocessing and scenarios where multiprocessing is a better choice.\n",
    "\n",
    "Answer:\n",
    "\n",
    "\n",
    "Multithreading is preferable when:\n",
    "\n",
    "The tasks are I/O-bound, such as reading/writing files, network operations, or database access.\n",
    "\n",
    "You want lightweight parallelism within the same memory space.\n",
    "\n",
    "You need to share memory between tasks (with care using locks).\n",
    "\n",
    "Multiprocessing is better when:\n",
    "\n",
    "The tasks are CPU-bound, like mathematical computations or data processing.\n",
    "\n",
    "You want to leverage multiple CPU cores (bypasses Python's Global Interpreter Lock).\n",
    "\n",
    "Isolation between tasks is desired (each process has its own memory)."
   ]
  },
  {
   "cell_type": "markdown",
   "id": "b5ca64d4",
   "metadata": {},
   "source": [
    "2. Describe what a process pool is and how it helps in managing multiple processes efficiently.\n",
    "\n",
    "Answer:\n",
    "\n",
    "A process pool is a collection of worker processes that can execute tasks concurrently. Instead of spawning a new process for every task (which is expensive), the pool reuses a fixed number of processes to handle multiple tasks. This improves performance and resource management.\n",
    "\n",
    "Python provides multiprocessing.Pool to manage these worker processes efficiently."
   ]
  },
  {
   "cell_type": "markdown",
   "id": "4fa0f7a3",
   "metadata": {},
   "source": [
    "3. Explain what multiprocessing is and why it is used in Python programs.\n",
    "\n",
    "Answer:\n",
    "\n",
    "Multiprocessing in Python allows concurrent execution of code using multiple processes. Each process has its own memory space and Python interpreter, which helps overcome the Global Interpreter Lock (GIL) limitation.\n",
    "\n",
    "It's used to:\n",
    "\n",
    "Improve performance of CPU-bound programs.\n",
    "\n",
    "Utilize multiple CPU cores.\n",
    "\n",
    "Achieve parallelism by running independent computations simultaneously."
   ]
  },
  {
   "cell_type": "markdown",
   "id": "da134253",
   "metadata": {},
   "source": [
    "4. Write a Python program using multithreading where one thread adds numbers to a list, and another thread removes numbers from the list. Implement a mechanism to avoid race conditions using threading.Lock."
   ]
  },
  {
   "cell_type": "code",
   "execution_count": 1,
   "id": "45dc4da8",
   "metadata": {},
   "outputs": [
    {
     "name": "stdout",
     "output_type": "stream",
     "text": [
      "Added 0\n",
      "Removed 0\n",
      "Added 1\n",
      "Removed 1\n",
      "Added 2\n",
      "Added 3\n",
      "Removed 2\n",
      "Added 4\n",
      "Removed 3\n",
      "Removed 4\n"
     ]
    }
   ],
   "source": [
    "import threading\n",
    "import time\n",
    "\n",
    "shared_list = []\n",
    "lock = threading.Lock()\n",
    "\n",
    "def add_numbers():\n",
    "    for i in range(5):\n",
    "        with lock:\n",
    "            shared_list.append(i)\n",
    "            print(f\"Added {i}\")\n",
    "        time.sleep(1)\n",
    "\n",
    "def remove_numbers():\n",
    "    for _ in range(5):\n",
    "        with lock:\n",
    "            if shared_list:\n",
    "                removed = shared_list.pop(0)\n",
    "                print(f\"Removed {removed}\")\n",
    "        time.sleep(1.5)\n",
    "\n",
    "t1 = threading.Thread(target=add_numbers)\n",
    "t2 = threading.Thread(target=remove_numbers)\n",
    "\n",
    "t1.start()\n",
    "t2.start()\n",
    "\n",
    "t1.join()\n",
    "t2.join()\n"
   ]
  },
  {
   "cell_type": "markdown",
   "id": "3b2141ec",
   "metadata": {},
   "source": [
    "5. Describe the methods and tools available in Python for safely sharing data between threads and processes.\n",
    "    \n",
    "Answer:\n",
    "\n",
    "Between threads (same memory space):\n",
    "\n",
    "threading.Lock, threading.RLock – mutual exclusion.\n",
    "\n",
    "queue.Queue – thread-safe data structure.\n",
    "\n",
    "threading.Event, Condition, Semaphore – synchronization tools.\n",
    "\n",
    "Between processes (separate memory space):\n",
    "\n",
    "multiprocessing.Queue – process-safe queue.\n",
    "\n",
    "multiprocessing.Pipe – duplex communication between processes.\n",
    "\n",
    "multiprocessing.Manager – creates shared objects like lists, dicts.\n",
    "\n",
    "Value and Array from multiprocessing – shared memory for primitives"
   ]
  },
  {
   "cell_type": "markdown",
   "id": "a8e8f5dc",
   "metadata": {},
   "source": [
    "6. Discuss why it’s crucial to handle exceptions in concurrent programs and the techniques available for doing so.\n",
    "\n",
    "Answer:\n",
    "\n",
    "Importance:\n",
    "\n",
    "Exceptions in threads/processes might go unnoticed.\n",
    "\n",
    "They can cause deadlocks or leave resources unfreed.\n",
    "\n",
    "Debugging becomes hard without proper error capture.\n",
    "\n",
    "Techniques:\n",
    "\n",
    "Use try-except blocks inside each thread/process.\n",
    "\n",
    "For threads: Monitor status using concurrent.futures.ThreadPoolExecutor.\n",
    "\n",
    "For processes: Use multiprocessing.Pool.apply_async(..., error_callback=...).\n",
    "\n",
    "Log errors to understand failure points.\n",
    "\n",
    "Use exception queues or result tracking objects."
   ]
  },
  {
   "cell_type": "markdown",
   "id": "4c87d62d",
   "metadata": {},
   "source": [
    "7. Create a program that uses a thread pool to calculate the factorial of numbers from 1 to 10 concurrently. Use concurrent.futures.ThreadPoolExecutor to manage the threads."
   ]
  },
  {
   "cell_type": "code",
   "execution_count": 2,
   "id": "2d5a9566",
   "metadata": {},
   "outputs": [
    {
     "name": "stdout",
     "output_type": "stream",
     "text": [
      "Factorial of 1 is 1\n",
      "Factorial of 2 is 2\n",
      "Factorial of 3 is 6\n",
      "Factorial of 4 is 24\n",
      "Factorial of 5 is 120\n",
      "Factorial of 6 is 720\n",
      "Factorial of 7 is 5040\n",
      "Factorial of 8 is 40320\n",
      "Factorial of 9 is 362880\n",
      "Factorial of 10 is 3628800\n"
     ]
    }
   ],
   "source": [
    "from concurrent.futures import ThreadPoolExecutor\n",
    "import math\n",
    "\n",
    "def compute_factorial(n):\n",
    "    return f\"Factorial of {n} is {math.factorial(n)}\"\n",
    "\n",
    "with ThreadPoolExecutor() as executor:\n",
    "    results = executor.map(compute_factorial, range(1, 11))\n",
    "\n",
    "for result in results:\n",
    "    print(result)\n"
   ]
  },
  {
   "cell_type": "markdown",
   "id": "cb466909",
   "metadata": {},
   "source": [
    "8. Create a Python program that uses multiprocessing.Pool to compute the square of numbers from 1 to 10 in parallel. Measure the time taken to perform this computation using a pool of different sizes (e.g., 2, 4, 8 processes).\n"
   ]
  },
  {
   "cell_type": "code",
   "execution_count": null,
   "id": "08163695",
   "metadata": {},
   "outputs": [],
   "source": [
    "import time\n",
    "from multiprocessing import Pool\n",
    "\n",
    "def square(n):\n",
    "    return n * n\n",
    "\n",
    "numbers = list(range(1, 11))\n",
    "\n",
    "for pool_size in [2, 4, 8]:\n",
    "    start = time.time()\n",
    "    with Pool(processes=pool_size) as pool:\n",
    "        results = pool.map(square, numbers)\n",
    "    end = time.time()\n",
    "    print(f\"Pool Size: {pool_size}, Results: {results}, Time: {end - start:.4f} seconds\")\n"
   ]
  },
  {
   "cell_type": "code",
   "execution_count": null,
   "id": "136d4225",
   "metadata": {},
   "outputs": [],
   "source": []
  }
 ],
 "metadata": {
  "kernelspec": {
   "display_name": "Python 3",
   "language": "python",
   "name": "python3"
  },
  "language_info": {
   "codemirror_mode": {
    "name": "ipython",
    "version": 3
   },
   "file_extension": ".py",
   "mimetype": "text/x-python",
   "name": "python",
   "nbconvert_exporter": "python",
   "pygments_lexer": "ipython3",
   "version": "3.12.6"
  }
 },
 "nbformat": 4,
 "nbformat_minor": 5
}
